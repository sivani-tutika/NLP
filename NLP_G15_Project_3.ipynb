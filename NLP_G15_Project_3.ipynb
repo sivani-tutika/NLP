{
  "nbformat": 4,
  "nbformat_minor": 0,
  "metadata": {
    "colab": {
      "provenance": []
    },
    "kernelspec": {
      "name": "python3",
      "display_name": "Python 3"
    },
    "language_info": {
      "name": "python"
    }
  },
  "cells": [
    {
      "cell_type": "markdown",
      "source": [
        "# RecommendationSystem"
      ],
      "metadata": {
        "id": "YzvafFbpe6Fj"
      }
    },
    {
      "cell_type": "code",
      "source": [
        "# Function to read valid input for each feature and check for null values\n",
        "def get_valid_input(attribute_name):\n",
        "    while True:\n",
        "        # Read input for each attribute dynamically\n",
        "        input_value = input(f\"Please enter the value for {attribute_name}: \")\n",
        "\n",
        "        # Check if input is not empty or null\n",
        "        if input_value.strip():\n",
        "            return input_value\n",
        "        else:\n",
        "            print(f\"Input for {attribute_name} is invalid. Please enter a valid value.\")\n",
        "\n",
        "# Define all the features\n",
        "features = ['danceability', 'energy', 'key', 'loudness', 'mode', 'speechiness', 'acousticness', 'instrumentalness', 'liveness', 'valence', 'tempo', 'duration_ms','lyrics']\n",
        "\n",
        "# Dictionary to store the valid inputs\n",
        "feature_inputs = {}\n",
        "\n",
        "# Loop through each feature and get the valid input\n",
        "for feature in features:\n",
        "    feature_inputs[feature] = get_valid_input(feature)\n",
        "\n",
        "# Output the valid inputs\n",
        "for feature, value in feature_inputs.items():\n",
        "    print(f\"Valid Input for {feature}: {value}\")\n"
      ],
      "metadata": {
        "colab": {
          "base_uri": "https://localhost:8080/"
        },
        "id": "TIxf9clDfz5J",
        "outputId": "67cfaaad-b26c-426a-8f87-06f290e918e8"
      },
      "execution_count": 44,
      "outputs": [
        {
          "output_type": "stream",
          "name": "stdout",
          "text": [
            "Please enter the value for danceability: 0.7\n",
            "Please enter the value for energy: 0.7\n",
            "Please enter the value for key: 7\n",
            "Please enter the value for loudness: 11\n",
            "Please enter the value for mode: 2\n",
            "Please enter the value for speechiness: 0.05\n",
            "Please enter the value for acousticness: 0.0001\n",
            "Please enter the value for instrumentalness: 0.7\n",
            "Please enter the value for liveness: 0.4\n",
            "Please enter the value for valence: 0.4\n",
            "Please enter the value for tempo: 100\n",
            "Please enter the value for duration_ms: 53764\n",
            "Please enter the value for lyrics: I woke up to the sound of the rain, Falling softly on my windowpane. A gentle breeze, the world feels new, I can't help but think of you.\n",
            "Valid Input for danceability: 0.7\n",
            "Valid Input for energy: 0.7\n",
            "Valid Input for key: 7\n",
            "Valid Input for loudness: 11\n",
            "Valid Input for mode: 2\n",
            "Valid Input for speechiness: 0.05\n",
            "Valid Input for acousticness: 0.0001\n",
            "Valid Input for instrumentalness: 0.7\n",
            "Valid Input for liveness: 0.4\n",
            "Valid Input for valence: 0.4\n",
            "Valid Input for tempo: 100\n",
            "Valid Input for duration_ms: 53764\n",
            "Valid Input for lyrics: I woke up to the sound of the rain, Falling softly on my windowpane. A gentle breeze, the world feels new, I can't help but think of you.\n"
          ]
        }
      ]
    },
    {
      "cell_type": "code",
      "source": [
        "!pip install langdetect"
      ],
      "metadata": {
        "colab": {
          "base_uri": "https://localhost:8080/"
        },
        "id": "PucedD57ga5U",
        "outputId": "67b9d854-abe0-4c5d-c3d6-a07abfeb4417"
      },
      "execution_count": null,
      "outputs": [
        {
          "output_type": "stream",
          "name": "stdout",
          "text": [
            "Requirement already satisfied: langdetect in /usr/local/lib/python3.10/dist-packages (1.0.9)\n",
            "Requirement already satisfied: six in /usr/local/lib/python3.10/dist-packages (from langdetect) (1.16.0)\n"
          ]
        }
      ]
    },
    {
      "cell_type": "code",
      "source": [
        "import nltk\n",
        "from nltk.corpus import words\n",
        "\n",
        "# Download the NLTK words corpus if not already installed\n",
        "nltk.download('words')"
      ],
      "metadata": {
        "colab": {
          "base_uri": "https://localhost:8080/"
        },
        "id": "dR6pXjN_G58J",
        "outputId": "3f33ee57-9e6d-4413-fe0e-31fbca534997"
      },
      "execution_count": 45,
      "outputs": [
        {
          "output_type": "stream",
          "name": "stderr",
          "text": [
            "[nltk_data] Downloading package words to /root/nltk_data...\n",
            "[nltk_data]   Package words is already up-to-date!\n"
          ]
        },
        {
          "output_type": "execute_result",
          "data": {
            "text/plain": [
              "True"
            ]
          },
          "metadata": {},
          "execution_count": 45
        }
      ]
    },
    {
      "cell_type": "code",
      "source": [
        "# Load the list of English words from the NLTK words corpus\n",
        "english_words_set = set(words.words())\n",
        "\n",
        "# Function to check the percentage of words in English\n",
        "def english_word_percentage(text):\n",
        "    try:\n",
        "        if isinstance(text, str) and text.strip():\n",
        "            # Split the text into words\n",
        "            words_in_text = text.split()\n",
        "            # Count words that exist in the English words set\n",
        "            english_word_count = sum(1 for word in words_in_text if word.lower() in english_words_set)\n",
        "            # Calculate the percentage of English words\n",
        "            percentage = english_word_count / len(words_in_text)\n",
        "            return percentage\n",
        "        else:\n",
        "            return 0  # Return 0 if the text is empty or not a string\n",
        "    except Exception as e:\n",
        "        print(f\"Error processing text: {e}\")\n",
        "        return 0\n",
        "\n",
        "# Function to validate if the lyrics are valid English\n",
        "def validate_lyrics_language(lyrics, threshold=0.5):\n",
        "    percentage = english_word_percentage(lyrics)\n",
        "    if percentage >= threshold:  # Threshold for detecting English lyrics\n",
        "        print(f\"Valid English Lyrics with {percentage*100:.2f}% English words.\")\n",
        "        return True\n",
        "    else:\n",
        "        print(f\"Invalid lyrics. Only {percentage*100:.2f}% of the words are in English.\")\n",
        "        return False\n",
        "\n",
        "# Example usage\n",
        "input_lyrics = feature_inputs['lyrics']\n",
        "\n",
        "# Check if the input lyrics are valid English\n",
        "is_valid = validate_lyrics_language(input_lyrics)\n"
      ],
      "metadata": {
        "colab": {
          "base_uri": "https://localhost:8080/"
        },
        "id": "uCqhxIQ5f6u_",
        "outputId": "5e608f86-e6e7-4ad6-b3a2-ff96db685552"
      },
      "execution_count": 46,
      "outputs": [
        {
          "output_type": "stream",
          "name": "stdout",
          "text": [
            "Valid English Lyrics with 75.00% English words.\n"
          ]
        }
      ]
    },
    {
      "cell_type": "code",
      "source": [
        "!pip install contractions"
      ],
      "metadata": {
        "colab": {
          "base_uri": "https://localhost:8080/"
        },
        "id": "0SNZmNegiSMK",
        "outputId": "7b44d29a-5abd-4ea2-d43d-24009ec873cf"
      },
      "execution_count": null,
      "outputs": [
        {
          "output_type": "stream",
          "name": "stdout",
          "text": [
            "Requirement already satisfied: contractions in /usr/local/lib/python3.10/dist-packages (0.1.73)\n",
            "Requirement already satisfied: textsearch>=0.0.21 in /usr/local/lib/python3.10/dist-packages (from contractions) (0.0.24)\n",
            "Requirement already satisfied: anyascii in /usr/local/lib/python3.10/dist-packages (from textsearch>=0.0.21->contractions) (0.3.2)\n",
            "Requirement already satisfied: pyahocorasick in /usr/local/lib/python3.10/dist-packages (from textsearch>=0.0.21->contractions) (2.1.0)\n"
          ]
        }
      ]
    },
    {
      "cell_type": "code",
      "source": [
        "import contractions\n",
        "import re\n",
        "from nltk.corpus import stopwords\n",
        "\n",
        "# Download the NLTK stopwords (if not already downloaded)\n",
        "nltk.download('stopwords')"
      ],
      "metadata": {
        "colab": {
          "base_uri": "https://localhost:8080/"
        },
        "id": "iQ_NdZzbHHD3",
        "outputId": "49ff7755-1a86-4327-d110-6d545d4a9618"
      },
      "execution_count": 47,
      "outputs": [
        {
          "output_type": "stream",
          "name": "stderr",
          "text": [
            "[nltk_data] Downloading package stopwords to /root/nltk_data...\n",
            "[nltk_data]   Package stopwords is already up-to-date!\n"
          ]
        },
        {
          "output_type": "execute_result",
          "data": {
            "text/plain": [
              "True"
            ]
          },
          "metadata": {},
          "execution_count": 47
        }
      ]
    },
    {
      "cell_type": "code",
      "source": [
        "# Function to clean lyrics\n",
        "def clean_lyrics(lyrics):\n",
        "    # Step 1: Remove stop words using NLTK\n",
        "    stop_words = set(stopwords.words('english'))\n",
        "    words = lyrics.split()\n",
        "    words = [word for word in words if word.lower() not in stop_words]\n",
        "    lyrics_no_stopwords = \" \".join(words)\n",
        "\n",
        "    # Step 2: Expand contractions\n",
        "    lyrics_expanded = contractions.fix(lyrics_no_stopwords)\n",
        "\n",
        "    # Step 3: Remove special/non-special characters using regular expressions\n",
        "    lyrics_cleaned = re.sub(r'[^a-zA-Z0-9\\s]', '', lyrics_expanded)\n",
        "\n",
        "    return lyrics_cleaned\n",
        "\n",
        "# Example valid_lyrics (assuming this is what you got after language detection)\n",
        "#valid_lyrics = \"I'm feeling so sad, I don't know why!\"\n",
        "\n",
        "# Clean the lyrics\n",
        "basic_cleaning_lyrics = clean_lyrics(input_lyrics)\n",
        "\n",
        "# Print the cleaned lyrics\n",
        "print(\"Cleaned Lyrics:\", basic_cleaning_lyrics)\n"
      ],
      "metadata": {
        "colab": {
          "base_uri": "https://localhost:8080/"
        },
        "id": "MD6gCbcgiCA6",
        "outputId": "56545c6b-0cc8-42d1-9d81-1ad07d5f1a44"
      },
      "execution_count": 48,
      "outputs": [
        {
          "output_type": "stream",
          "name": "stdout",
          "text": [
            "Cleaned Lyrics: woke sound rain Falling softly windowpane gentle breeze world feels new cannot help think you\n"
          ]
        }
      ]
    },
    {
      "cell_type": "code",
      "source": [
        "from nltk.tokenize import word_tokenize\n",
        "from nltk.stem import WordNetLemmatizer, PorterStemmer\n",
        "from sklearn.feature_extraction.text import CountVectorizer"
      ],
      "metadata": {
        "id": "VCGIN77xHRoe"
      },
      "execution_count": null,
      "outputs": []
    },
    {
      "cell_type": "code",
      "source": [
        "# Initialize lemmatizer and stemmer\n",
        "lemmatizer = WordNetLemmatizer()\n",
        "stemmer = PorterStemmer()\n",
        "\n",
        "# Function to clean and process lyrics\n",
        "def process_lyrics(lyrics):\n",
        "    # Tokenization: Split lyrics into words\n",
        "    tokens = word_tokenize(lyrics)\n",
        "\n",
        "    # Lemmatization: Convert tokens to their base forms\n",
        "    lemmatized_tokens = [lemmatizer.lemmatize(token) for token in tokens]\n",
        "\n",
        "    # Stemming: Convert tokens to their stem forms\n",
        "    stemmed_tokens = [stemmer.stem(token) for token in tokens]\n",
        "\n",
        "    return lemmatized_tokens, stemmed_tokens\n",
        "\n",
        "# Example lyrics input\n",
        "basic_cleaning_lyrics = \"I'm walking down the street and it's raining cats and dogs!\"\n",
        "\n",
        "# Process the cleaned lyrics\n",
        "lemmatized_tokens, stemmed_tokens = process_lyrics(basic_cleaning_lyrics)\n",
        "\n",
        "# Output the results\n",
        "print(\"Tokenized Lyrics:\", word_tokenize(basic_cleaning_lyrics))\n",
        "print(\"Lemmatized Tokens:\", lemmatized_tokens)\n",
        "print(\"Stemmed Tokens:\", stemmed_tokens)"
      ],
      "metadata": {
        "colab": {
          "base_uri": "https://localhost:8080/"
        },
        "id": "22dDEAAEi66k",
        "outputId": "f7db9a8f-79e9-4e41-9cde-bb592712b140"
      },
      "execution_count": 49,
      "outputs": [
        {
          "output_type": "stream",
          "name": "stdout",
          "text": [
            "Tokenized Lyrics: ['I', \"'m\", 'walking', 'down', 'the', 'street', 'and', 'it', \"'s\", 'raining', 'cats', 'and', 'dogs', '!']\n",
            "Lemmatized Tokens: ['I', \"'m\", 'walking', 'down', 'the', 'street', 'and', 'it', \"'s\", 'raining', 'cat', 'and', 'dog', '!']\n",
            "Stemmed Tokens: ['i', \"'m\", 'walk', 'down', 'the', 'street', 'and', 'it', \"'s\", 'rain', 'cat', 'and', 'dog', '!']\n"
          ]
        }
      ]
    },
    {
      "cell_type": "markdown",
      "source": [
        "### vectorization"
      ],
      "metadata": {
        "id": "8aFkWwfVHyem"
      }
    },
    {
      "cell_type": "code",
      "source": [
        "!pip install requests"
      ],
      "metadata": {
        "colab": {
          "base_uri": "https://localhost:8080/"
        },
        "id": "UYR4At9EH0rV",
        "outputId": "240ba551-5e0a-435f-d0da-96f9a962f574"
      },
      "execution_count": null,
      "outputs": [
        {
          "output_type": "stream",
          "name": "stdout",
          "text": [
            "Requirement already satisfied: requests in /usr/local/lib/python3.10/dist-packages (2.32.3)\n",
            "Requirement already satisfied: charset-normalizer<4,>=2 in /usr/local/lib/python3.10/dist-packages (from requests) (3.4.0)\n",
            "Requirement already satisfied: idna<4,>=2.5 in /usr/local/lib/python3.10/dist-packages (from requests) (3.10)\n",
            "Requirement already satisfied: urllib3<3,>=1.21.1 in /usr/local/lib/python3.10/dist-packages (from requests) (2.2.3)\n",
            "Requirement already satisfied: certifi>=2017.4.17 in /usr/local/lib/python3.10/dist-packages (from requests) (2024.8.30)\n"
          ]
        }
      ]
    },
    {
      "cell_type": "code",
      "source": [
        "import requests\n",
        "import zipfile\n",
        "import os"
      ],
      "metadata": {
        "id": "7H_2NhYtIGXg"
      },
      "execution_count": null,
      "outputs": []
    },
    {
      "cell_type": "code",
      "source": [
        "# Define the URL of the GloVe embeddings and the path to save the file\n",
        "glove_url = \"http://nlp.stanford.edu/data/glove.6B.zip\"\n",
        "zip_file_path = \"glove.6B.zip\"\n",
        "extract_dir = \"glove.6B\"\n",
        "\n",
        "# Download the file from the URL\n",
        "response = requests.get(glove_url)\n",
        "with open(zip_file_path, \"wb\") as file:\n",
        "    file.write(response.content)\n",
        "\n",
        "# Extract the downloaded ZIP file\n",
        "with zipfile.ZipFile(zip_file_path, 'r') as zip_ref:\n",
        "    zip_ref.extractall(extract_dir)\n",
        "\n",
        "# Path to the GloVe 50D embeddings\n",
        "glove_file_path = os.path.join(extract_dir, \"glove.6B.50d.txt\")\n",
        "\n",
        "# Verify if the file is extracted\n",
        "if os.path.exists(glove_file_path):\n",
        "    print(f\"GloVe file successfully extracted to {glove_file_path}\")\n",
        "else:\n",
        "    print(\"Failed to extract GloVe file.\")"
      ],
      "metadata": {
        "colab": {
          "base_uri": "https://localhost:8080/"
        },
        "id": "FR_AhPu-II9a",
        "outputId": "d56b83fe-bb8a-4073-8c21-2f84f21dfba9"
      },
      "execution_count": 50,
      "outputs": [
        {
          "output_type": "stream",
          "name": "stdout",
          "text": [
            "GloVe file successfully extracted to glove.6B/glove.6B.50d.txt\n"
          ]
        }
      ]
    },
    {
      "cell_type": "code",
      "source": [
        "import numpy as np\n",
        "\n",
        "# Function to load GloVe embeddings (50D version)\n",
        "def load_glove_model(glove_file):\n",
        "    glove_model = {}\n",
        "    with open(glove_file, 'r', encoding='utf-8') as f:\n",
        "        for line in f:\n",
        "            values = line.split()\n",
        "            word = values[0]\n",
        "            vector = np.asarray(values[1:], dtype='float32')\n",
        "            glove_model[word] = vector\n",
        "    return glove_model\n",
        "\n",
        "# Load the GloVe model (50D vectors)\n",
        "glove_model = load_glove_model(\"/content/glove.6B/glove.6B.50d.txt\")"
      ],
      "metadata": {
        "id": "Xqm9K0WyJ9Wq"
      },
      "execution_count": 51,
      "outputs": []
    },
    {
      "cell_type": "code",
      "source": [
        "def get_glove_vector_for_lyrics(lyrics, glove_model):\n",
        "    try:\n",
        "        # Tokenize and convert to lowercase\n",
        "        tokens = lyrics\n",
        "        vectors = []\n",
        "\n",
        "        # Iterate over each token in the lyrics\n",
        "        for word in tokens:\n",
        "            # Check if the word exists in the GloVe model\n",
        "            if word in glove_model:\n",
        "                vectors.append(glove_model[word])\n",
        "\n",
        "        # Check if any valid vectors were found\n",
        "        if vectors:\n",
        "            # Return the average of all word vectors in the song\n",
        "            return np.mean(vectors, axis=0)\n",
        "        else:\n",
        "            # Return a vector of zeros if no GloVe vectors were found for words in the song\n",
        "            print(f\"No valid GloVe vectors found for the lyrics: {lyrics[:30]}...\")\n",
        "            return np.zeros(50)  # 50D zero vector\n",
        "\n",
        "    except Exception as e:\n",
        "        # Handle any error that occurs during the process and print the error message\n",
        "        print(f\"Error processing lyrics: {e}\")\n",
        "        return np.zeros(50)  # Return a zero vector in case of error"
      ],
      "metadata": {
        "id": "_sUvBuASIwp4"
      },
      "execution_count": 52,
      "outputs": []
    },
    {
      "cell_type": "code",
      "source": [
        "# Apply GloVe vectorization to all lyrics\n",
        "feature_inputs['glove_vector'] = get_glove_vector_for_lyrics(stemmed_tokens, glove_model)\n",
        "feature_inputs['glove_vector_numeric'] = np.mean(feature_inputs['glove_vector'])"
      ],
      "metadata": {
        "id": "fM9zQrMkI3j-"
      },
      "execution_count": 53,
      "outputs": []
    },
    {
      "cell_type": "code",
      "source": [
        "print(feature_inputs)"
      ],
      "metadata": {
        "colab": {
          "base_uri": "https://localhost:8080/"
        },
        "id": "VcUC7uYgKYhz",
        "outputId": "ae16c35c-49f9-48af-8a57-3fe6f8486405"
      },
      "execution_count": 54,
      "outputs": [
        {
          "output_type": "stream",
          "name": "stdout",
          "text": [
            "{'danceability': '0.7', 'energy': '0.7', 'key': '7', 'loudness': '11', 'mode': '2', 'speechiness': '0.05', 'acousticness': '0.0001', 'instrumentalness': '0.7', 'liveness': '0.4', 'valence': '0.4', 'tempo': '100', 'duration_ms': '53764', 'lyrics': \"I woke up to the sound of the rain, Falling softly on my windowpane. A gentle breeze, the world feels new, I can't help but think of you.\", 'glove_vector': array([ 1.00457855e-01,  5.48056401e-02, -6.67329282e-02, -2.09627151e-01,\n",
            "        3.15852165e-01, -8.91926438e-02, -5.78443527e-01, -8.31107050e-02,\n",
            "        1.33464590e-03, -4.24673222e-02, -2.06857190e-01,  1.37035012e-01,\n",
            "       -3.89777869e-01, -3.87476422e-02,  4.00983602e-01,  1.23331048e-01,\n",
            "        1.12779297e-01,  1.05782636e-01, -6.21075213e-01, -5.22718191e-01,\n",
            "       -6.06916472e-02,  3.50971431e-01,  2.84065008e-01,  8.23742896e-02,\n",
            "        4.78178412e-01, -1.61441064e+00, -5.32594681e-01,  3.84965807e-01,\n",
            "        4.35715675e-01, -6.14706039e-01,  3.04924250e+00,  2.95632571e-01,\n",
            "       -1.74073786e-01,  1.68931141e-01, -2.17004508e-01, -1.25287294e-01,\n",
            "        1.60910502e-01, -4.57384326e-02,  2.72392273e-01, -2.53062338e-01,\n",
            "       -2.11169228e-01,  1.59606427e-01, -2.13087931e-01,  8.19023624e-02,\n",
            "        1.86333433e-01,  9.34546441e-02, -4.16376889e-02, -8.12624097e-01,\n",
            "        1.14526927e-01,  7.53529519e-02], dtype=float32), 'glove_vector_numeric': 0.005241585}\n"
          ]
        }
      ]
    },
    {
      "cell_type": "markdown",
      "source": [
        "### Finding the Emoition of the Song"
      ],
      "metadata": {
        "id": "oV2rNn1lK35i"
      }
    },
    {
      "cell_type": "code",
      "source": [
        "import joblib\n",
        "\n",
        "rf_model = joblib.load('/content/rf_model.joblib')"
      ],
      "metadata": {
        "id": "cN-0sSwdK8SW"
      },
      "execution_count": null,
      "outputs": []
    },
    {
      "cell_type": "code",
      "source": [
        "# Emotion mapping dictionary\n",
        "emotion_mapping = {\n",
        "    'Neutral': 1,\n",
        "    'Relaxed': 2,\n",
        "    'Sad': 3,\n",
        "    'Angry': 4,\n",
        "    'Happy': 5,\n",
        "    'Energetic': 5\n",
        "}\n",
        "\n",
        "# Input features (including glove_vector_numeric)\n",
        "glove_vector_numeric = feature_inputs['glove_vector_numeric']\n",
        "#features = [0.6, 0.5, 7, -11.157, 2, 0.05, 0.01, 0.7, 0.4, 0.1, 100, 5242, glove_vector_numeric]\n",
        "feature_inputs['glove_vector_numeric'] = glove_vector_numeric\n",
        "\n",
        "# Accessing individual features\n",
        "features = [\n",
        "    feature_inputs['danceability'],\n",
        "    feature_inputs['energy'],\n",
        "    feature_inputs['key'],\n",
        "    feature_inputs['loudness'],\n",
        "    feature_inputs['mode'],\n",
        "    feature_inputs['speechiness'],\n",
        "    feature_inputs['acousticness'],\n",
        "    feature_inputs['instrumentalness'],\n",
        "    feature_inputs['liveness'],\n",
        "    feature_inputs['valence'],\n",
        "    feature_inputs['tempo'],\n",
        "    feature_inputs['duration_ms'],\n",
        "    feature_inputs['glove_vector_numeric']\n",
        "]\n",
        "\n",
        "# Make a prediction using the Random Forest model\n",
        "y_pred = rf_model.predict([features])\n",
        "\n",
        "# Map the numeric prediction back to the emotion using emotion_mapping\n",
        "# Assuming y_pred is a numeric value that corresponds to an emotion in emotion_mapping\n",
        "predicted_emotion = [emotion for emotion, value in emotion_mapping.items() if value == y_pred[0]]\n",
        "\n",
        "# Output the predicted emotion\n",
        "if predicted_emotion:\n",
        "    print(f\"Predicted Emotion: {predicted_emotion[0]}\")\n",
        "else:\n",
        "    print(\"Emotion not found in the mapping.\")\n"
      ],
      "metadata": {
        "colab": {
          "base_uri": "https://localhost:8080/"
        },
        "id": "CcDXApRqLkvU",
        "outputId": "a551e242-6a07-48e1-96a6-055c13f69f2c"
      },
      "execution_count": 57,
      "outputs": [
        {
          "output_type": "stream",
          "name": "stdout",
          "text": [
            "Predicted Emotion: Neutral\n"
          ]
        }
      ]
    },
    {
      "cell_type": "code",
      "source": [
        "feature_inputs"
      ],
      "metadata": {
        "colab": {
          "base_uri": "https://localhost:8080/"
        },
        "id": "1hM79ZJZT0fQ",
        "outputId": "a019bc93-414d-43cd-d9ea-dbd23e3f713a"
      },
      "execution_count": 73,
      "outputs": [
        {
          "output_type": "execute_result",
          "data": {
            "text/plain": [
              "{'danceability': '0.7',\n",
              " 'energy': '0.7',\n",
              " 'key': '7',\n",
              " 'loudness': '11',\n",
              " 'mode': '2',\n",
              " 'speechiness': '0.05',\n",
              " 'acousticness': '0.0001',\n",
              " 'instrumentalness': '0.7',\n",
              " 'liveness': '0.4',\n",
              " 'valence': '0.4',\n",
              " 'tempo': '100',\n",
              " 'duration_ms': '53764',\n",
              " 'lyrics': \"I woke up to the sound of the rain, Falling softly on my windowpane. A gentle breeze, the world feels new, I can't help but think of you.\",\n",
              " 'glove_vector': array([ 1.00457855e-01,  5.48056401e-02, -6.67329282e-02, -2.09627151e-01,\n",
              "         3.15852165e-01, -8.91926438e-02, -5.78443527e-01, -8.31107050e-02,\n",
              "         1.33464590e-03, -4.24673222e-02, -2.06857190e-01,  1.37035012e-01,\n",
              "        -3.89777869e-01, -3.87476422e-02,  4.00983602e-01,  1.23331048e-01,\n",
              "         1.12779297e-01,  1.05782636e-01, -6.21075213e-01, -5.22718191e-01,\n",
              "        -6.06916472e-02,  3.50971431e-01,  2.84065008e-01,  8.23742896e-02,\n",
              "         4.78178412e-01, -1.61441064e+00, -5.32594681e-01,  3.84965807e-01,\n",
              "         4.35715675e-01, -6.14706039e-01,  3.04924250e+00,  2.95632571e-01,\n",
              "        -1.74073786e-01,  1.68931141e-01, -2.17004508e-01, -1.25287294e-01,\n",
              "         1.60910502e-01, -4.57384326e-02,  2.72392273e-01, -2.53062338e-01,\n",
              "        -2.11169228e-01,  1.59606427e-01, -2.13087931e-01,  8.19023624e-02,\n",
              "         1.86333433e-01,  9.34546441e-02, -4.16376889e-02, -8.12624097e-01,\n",
              "         1.14526927e-01,  7.53529519e-02], dtype=float32),\n",
              " 'glove_vector_numeric': 0.005241585}"
            ]
          },
          "metadata": {},
          "execution_count": 73
        }
      ]
    },
    {
      "cell_type": "code",
      "source": [
        "from sklearn.metrics.pairwise import cosine_similarity\n",
        "import pandas as pd"
      ],
      "metadata": {
        "id": "OaT42s8-NF3l"
      },
      "execution_count": 61,
      "outputs": []
    },
    {
      "cell_type": "code",
      "source": [
        "# Load the dataset\n",
        "file_path = \"/content/final_songs_dataframe.csv\"\n",
        "final_songs_dataframe = pd.read_csv(file_path)"
      ],
      "metadata": {
        "id": "3sr1xZCAR47L"
      },
      "execution_count": 90,
      "outputs": []
    },
    {
      "cell_type": "code",
      "source": [
        "# Check the column names in the dataframe\n",
        "print(final_songs_dataframe.columns)\n"
      ],
      "metadata": {
        "colab": {
          "base_uri": "https://localhost:8080/"
        },
        "id": "d1hpDs9pR7GC",
        "outputId": "dbce7ec6-93b9-47a4-b455-c6e98049f29d"
      },
      "execution_count": 91,
      "outputs": [
        {
          "output_type": "stream",
          "name": "stdout",
          "text": [
            "Index(['id', 'name', 'album_name', 'artists', 'danceability', 'energy', 'key',\n",
            "       'loudness', 'mode', 'speechiness', 'acousticness', 'instrumentalness',\n",
            "       'liveness', 'valence', 'tempo', 'duration_ms', 'lyrics', 'glove_vector',\n",
            "       'glove_vector_numeric', 'emotion_category'],\n",
            "      dtype='object')\n"
          ]
        }
      ]
    },
    {
      "cell_type": "code",
      "source": [
        "final_songs_dataframe.info()"
      ],
      "metadata": {
        "colab": {
          "base_uri": "https://localhost:8080/"
        },
        "id": "rczwuHiyT8va",
        "outputId": "595e3370-22fb-4516-bce3-709b1ebd3e68"
      },
      "execution_count": 92,
      "outputs": [
        {
          "output_type": "stream",
          "name": "stdout",
          "text": [
            "<class 'pandas.core.frame.DataFrame'>\n",
            "RangeIndex: 73394 entries, 0 to 73393\n",
            "Data columns (total 20 columns):\n",
            " #   Column                Non-Null Count  Dtype  \n",
            "---  ------                --------------  -----  \n",
            " 0   id                    73394 non-null  object \n",
            " 1   name                  73394 non-null  object \n",
            " 2   album_name            73394 non-null  object \n",
            " 3   artists               73394 non-null  object \n",
            " 4   danceability          73394 non-null  float64\n",
            " 5   energy                73394 non-null  float64\n",
            " 6   key                   73394 non-null  object \n",
            " 7   loudness              73394 non-null  float64\n",
            " 8   mode                  73394 non-null  object \n",
            " 9   speechiness           73394 non-null  float64\n",
            " 10  acousticness          73394 non-null  float64\n",
            " 11  instrumentalness      73394 non-null  float64\n",
            " 12  liveness              73394 non-null  float64\n",
            " 13  valence               73394 non-null  float64\n",
            " 14  tempo                 73394 non-null  float64\n",
            " 15  duration_ms           73394 non-null  float64\n",
            " 16  lyrics                73393 non-null  object \n",
            " 17  glove_vector          73394 non-null  object \n",
            " 18  glove_vector_numeric  73394 non-null  float64\n",
            " 19  emotion_category      73394 non-null  object \n",
            "dtypes: float64(11), object(9)\n",
            "memory usage: 11.2+ MB\n"
          ]
        }
      ]
    },
    {
      "cell_type": "code",
      "source": [
        "final_songs_dataframe['glove_vector']"
      ],
      "metadata": {
        "colab": {
          "base_uri": "https://localhost:8080/",
          "height": 458
        },
        "id": "wk99blcFU_NR",
        "outputId": "f4adb0eb-191d-442d-c937-79837fb2a37c"
      },
      "execution_count": 93,
      "outputs": [
        {
          "output_type": "execute_result",
          "data": {
            "text/plain": [
              "0        [ 0.08974653  0.10316204  0.09011229 -0.287115...\n",
              "1        [ 0.07517301  0.24146253  0.02544807 -0.359017...\n",
              "2        [ 2.29687616e-01  6.40893996e-01  2.40405411e-...\n",
              "3        [ 0.25893155  0.5670942  -0.57082355  0.165255...\n",
              "4        [ 0.25893155  0.5670942  -0.57082355  0.165255...\n",
              "                               ...                        \n",
              "73389    [ 1.0983306e-01  5.7236213e-02  1.3336040e-01 ...\n",
              "73390    [ 1.2784953e-01  2.0313313e-02  1.1022345e-01 ...\n",
              "73391    [ 1.94302887e-01  5.86311296e-02  9.58473012e-...\n",
              "73392    [ 1.52678609e-01  1.18894935e-01  1.22678332e-...\n",
              "73393    [ 0.19902435  0.13375023  0.13590162 -0.257337...\n",
              "Name: glove_vector, Length: 73394, dtype: object"
            ],
            "text/html": [
              "<div>\n",
              "<style scoped>\n",
              "    .dataframe tbody tr th:only-of-type {\n",
              "        vertical-align: middle;\n",
              "    }\n",
              "\n",
              "    .dataframe tbody tr th {\n",
              "        vertical-align: top;\n",
              "    }\n",
              "\n",
              "    .dataframe thead th {\n",
              "        text-align: right;\n",
              "    }\n",
              "</style>\n",
              "<table border=\"1\" class=\"dataframe\">\n",
              "  <thead>\n",
              "    <tr style=\"text-align: right;\">\n",
              "      <th></th>\n",
              "      <th>glove_vector</th>\n",
              "    </tr>\n",
              "  </thead>\n",
              "  <tbody>\n",
              "    <tr>\n",
              "      <th>0</th>\n",
              "      <td>[ 0.08974653  0.10316204  0.09011229 -0.287115...</td>\n",
              "    </tr>\n",
              "    <tr>\n",
              "      <th>1</th>\n",
              "      <td>[ 0.07517301  0.24146253  0.02544807 -0.359017...</td>\n",
              "    </tr>\n",
              "    <tr>\n",
              "      <th>2</th>\n",
              "      <td>[ 2.29687616e-01  6.40893996e-01  2.40405411e-...</td>\n",
              "    </tr>\n",
              "    <tr>\n",
              "      <th>3</th>\n",
              "      <td>[ 0.25893155  0.5670942  -0.57082355  0.165255...</td>\n",
              "    </tr>\n",
              "    <tr>\n",
              "      <th>4</th>\n",
              "      <td>[ 0.25893155  0.5670942  -0.57082355  0.165255...</td>\n",
              "    </tr>\n",
              "    <tr>\n",
              "      <th>...</th>\n",
              "      <td>...</td>\n",
              "    </tr>\n",
              "    <tr>\n",
              "      <th>73389</th>\n",
              "      <td>[ 1.0983306e-01  5.7236213e-02  1.3336040e-01 ...</td>\n",
              "    </tr>\n",
              "    <tr>\n",
              "      <th>73390</th>\n",
              "      <td>[ 1.2784953e-01  2.0313313e-02  1.1022345e-01 ...</td>\n",
              "    </tr>\n",
              "    <tr>\n",
              "      <th>73391</th>\n",
              "      <td>[ 1.94302887e-01  5.86311296e-02  9.58473012e-...</td>\n",
              "    </tr>\n",
              "    <tr>\n",
              "      <th>73392</th>\n",
              "      <td>[ 1.52678609e-01  1.18894935e-01  1.22678332e-...</td>\n",
              "    </tr>\n",
              "    <tr>\n",
              "      <th>73393</th>\n",
              "      <td>[ 0.19902435  0.13375023  0.13590162 -0.257337...</td>\n",
              "    </tr>\n",
              "  </tbody>\n",
              "</table>\n",
              "<p>73394 rows × 1 columns</p>\n",
              "</div><br><label><b>dtype:</b> object</label>"
            ]
          },
          "metadata": {},
          "execution_count": 93
        }
      ]
    },
    {
      "cell_type": "code",
      "source": [
        "import numpy as np\n",
        "from sklearn.metrics.pairwise import cosine_similarity\n",
        "\n",
        "# Assuming y_pred is the predicted emotion value\n",
        "emotion_mapping = {\n",
        "    1: 'Neutral',\n",
        "    2: 'Relaxed',\n",
        "    3: 'Sad',\n",
        "    4: 'Angry',\n",
        "    5: 'Energetic'\n",
        "}\n",
        "\n",
        "# Filter songs by emotion\n",
        "filtered_songs = final_songs_dataframe[final_songs_dataframe['emotion_category'] == emotion_mapping[y_pred]]\n",
        "\n",
        "# Function to convert the string representation of the glove_vector to a numpy array\n",
        "def convert_glove_vector(glove_str):\n",
        "    glove_str_cleaned = glove_str.replace('[', '').replace(']', '').replace('\\n', ' ').strip()  # Remove newlines, brackets, and extra spaces\n",
        "    glove_vector = np.array(list(map(float, glove_str_cleaned.split())))  # Convert string to list of floats\n",
        "    return glove_vector\n",
        "\n",
        "# Convert the 'glove_vector' column strings to numpy arrays using .loc\n",
        "filtered_songs.loc[:, 'glove_vector'] = filtered_songs['glove_vector'].apply(convert_glove_vector)\n",
        "\n",
        "# Apply cosine similarity between the feature_inputs['glove_vector'] and each song's glove_vector\n",
        "filtered_songs['similarity'] = filtered_songs['glove_vector'].apply(\n",
        "    lambda x: cosine_similarity(feature_inputs['glove_vector'].reshape(1, -1), x.reshape(1, -1))[0][0]\n",
        ")\n"
      ],
      "metadata": {
        "colab": {
          "base_uri": "https://localhost:8080/"
        },
        "id": "jbPoDu-6NIZ6",
        "outputId": "2823959a-39f5-45c8-abe5-11343603d292"
      },
      "execution_count": 110,
      "outputs": [
        {
          "output_type": "stream",
          "name": "stderr",
          "text": [
            "<ipython-input-110-cccc41a0557d>:26: SettingWithCopyWarning: \n",
            "A value is trying to be set on a copy of a slice from a DataFrame.\n",
            "Try using .loc[row_indexer,col_indexer] = value instead\n",
            "\n",
            "See the caveats in the documentation: https://pandas.pydata.org/pandas-docs/stable/user_guide/indexing.html#returning-a-view-versus-a-copy\n",
            "  filtered_songs['similarity'] = filtered_songs['glove_vector'].apply(\n"
          ]
        }
      ]
    },
    {
      "cell_type": "code",
      "source": [
        "# Return top 5 songs\n",
        "recommended_songs = filtered_songs.sort_values(by='similarity', ascending=False).head(5)\n",
        "\n",
        "# Select only the 'lyrics' and 'similarity' columns\n",
        "recommended_songs_output = recommended_songs[['lyrics', 'similarity']]\n",
        "\n",
        "# Set display options for a clean and neat table output\n",
        "pd.set_option('display.max_columns', None)  # Display all columns\n",
        "pd.set_option('display.width', 1000)        # Set display width to fit more columns\n",
        "pd.set_option('display.max_colwidth', None) # Prevent truncation of long text in columns\n",
        "\n",
        "# Display the table (neatly formatted)\n",
        "display(recommended_songs_output)"
      ],
      "metadata": {
        "colab": {
          "base_uri": "https://localhost:8080/",
          "height": 1000
        },
        "id": "03nZTyKQY6Fd",
        "outputId": "7e4e4e34-adb1-48e8-dad1-6cb10926f611"
      },
      "execution_count": 113,
      "outputs": [
        {
          "output_type": "display_data",
          "data": {
            "text/plain": [
              "                                                                                                                                                                                                                                                                                                                                                                                                                                                                                                                                                                                                                                                                                                                                                                                                                                                                                                                                                                                                                                                                                                                                                                                                                                                                                                                                                                                                                                                                                                                                                                                                                                                                                                                                                                                                                                                                                                                                                                                                                                                                                                                                                                                                                                                                                                                                                                                                                                                                                                                                                                                                                                                                                                                                                                                                                                                                                                                                                                                                                                                                                                                                                                                                                                                                                                                                                                                                                                                           lyrics  \\\n",
              "7354   wake half time, know five minutes think \"What country? city? hotel in?\" five minutes think \"Is wild animal scratching around next bed? large rat raccoon squirrel broke in?\" stumble around room, touching walls, feeling around Feeling around dark feel feel find light switch turn recognize cat there's beautiful woman laying bed you, head clear Wait I'm wrong, thought clear I'm alone There's guitar recording gear Okay, realize I'm hotel room San Francisco stayed girl tour San Francisco long That's really remember, hotel night long engineer's limping around messed knee mosh pit night He's blaming let Come watch McGregor fight apartment \"I already girlfriend over,\" told \"It's last night together Marc Hopkins sessions\" carpet gold, walls yellow, curtains pink carpet gold, walls yellow, curtains pink carpet gold, walls yellow, curtains pink carpet gold, walls yellow, curtains pink I'm back Ireland, I'm totally stoned jet lag permanently clock different day day duration life Lately go bed 7 o'clock morning, wake 4 PM dark New Orleans 5:30 walk across Coliseum Square I'll get iced tea Mojo Magazine sit bit come back window, see Pontchartrain Hotel sign lit like always is, neon green finished book John Connolly, got choked end Like end book, Book Lost Things end Stan Laurel hears Pacific Ocean waves crashing mind, takes past Oliver Hardy audience clapping I'm listening Nels Cline's Lovers I'm watching news mudslides snowstorms east coast bothers like everybody fingerpointing Saying somebody something wrong like news anymore pick remote click I'm falling asleep, I'm dream state I'm back San Francisco, walking around apartment earthquake I'm feeling? guitars falling place floors rising ceiling getting closer ceiling, heart beating faster faster run kitchen, grab food bottled water exit apartment fast look fruit bowl there's unbearably loud hum Coming cable car tracks oranges yellow, lemons green, cable car goes vroom-vroom oranges yellow, lemons green, cable car goes vroom-vroom oranges yellow, lemons green, cable car goes vroom-vroom oranges yellow, lemons green, cable car goes vroom-vroom dream, walked SPCA somebody asked \"Mark, pets?,\" said, \"Yes, do\" says, \"Well, kind pets?\" said, \"Well, take guess\" guesses guesses said \"Well wrong, unique pets\" says, \"How different?\" said, \"Well, let show video them\" said, \"Okay, let watch video them\" show video pets' eyes bulged frightened Like Mia Farrow's eyes Rosemary's Baby fucked Satan kitty cat barks, duck goes quack, puppy dog goes meow kitty cat barks, duck goes quack, puppy dog goes meow kitty cat barks, duck goes quack, puppy dog goes meow kitty cat barks, duck goes quack, puppy dog goes meow friend said, \"Mark, know leaving tonight child look after?\" said, \"Yeah, he's smart kid wants grow actor movie director Steve Railsback favorite actor world, watch movies together son's favorite movies Devil's Rejects, Ed Gein, Helter Skelter\" friend said, \"Well, who's babysitter?\" said, \"Don't worry it, that's business, he's neighbor\" said, \"Look, gotta go, called taxi, son's gonna fine Talk later, alligator\" got babysitter coming, live 666 Post, neighbor is... zoom got babysitter coming, live 666 Post, neighbor is... zoom got babysitter coming, live 666 Post, neighbor is... zoom got babysitter coming, live 666 Post, neighbor is... zoom   \n",
              "31781                                                                                                                                                                                                                                                                                                                                                                                                                                                                                                                                                                                                                                                                                                                                                                                                                                                                                                                                                                                                                                                                                                                                                                                                                                                                                                                                                                                                                                                                                                                                                                                                                                                                                                                                                                                                                                                                                                                                                                                                                                                                                                                                                                                                                                                                                                                                                                                                                                                                                                                                                                                                                                                                                                                                                                                                                                                                                                                                                                                                                    Shit got heavy like eyelids highway end got quiet like island left headed sea toothless shark actor playing part can't pretend care like unknown second home we're upside down, love Gravity change heart fell hell fell I've incisive intuition curse anything Always first know everything ends Bullets June nice night knife fight two boats drifting sun shines you, love well-lit like work art I've exiled like enemy Forever dark   \n",
              "64402                                                                                                                                                                                                                                                                                                                                                                                                                                                                                                      Damn go walking find horses man-made lake trees Came back room covered sweat Swiss Waldhaus Hotel Filled application work visa Japan Australia weeks since I've left home feel place element work 7 night 5 AD says \"Wrap\" runner named Fabio flashlights back hotel sun comes get bed talk girl phone birds chirping hell end playing Italian film Set ski town Switzerland? Damn go walk yard, alone [?] felt like Jimmy Page walking mountains behind Aleister Crowley's house dark, got cold turned back around Came back room, read Graham Nash's Wild Tales Til fell asleep sound sound birds birds Flims Yeah I've asked around nobody knows names 'em birds birds Flims Yeah I've asked around nobody knows names 'em Damn go walking road girl named Veronica stopped said Milan recognized film today birthday talked little bit barrier went one way went walked along dandelions market bought flowers way back hotel left lobby hers, note \"Veronica, happy birthday - Mark\" saw set said \"Grazie\", could tell gesture touched heart Damn go dinner last night Paul throat sore could see feeling ill spends time set cold last two days, playing Hitler could see grappling felt bad, gave words support talked John Hughes movies, home ownership cost living San Francisco New York damn go later set dresser something like Name said \"Brianna\" talked four hours bar street music terrible yeah, liked her, kinda someone four five years kinda figured anyhow, told \"Well, I\" made life easier us walked drunk ass back room like gentleman, try went room looked waterfront balcony felt surrealness surroundings got bed Looked baby blue ceilings thought home girl ached love Damn ended fly New Orleans saw kitty cats sleeping porches drank real iced tea first time six eight weeks nice walk awkward path yell [?] eating pasta pomodoro 38th time month price [?] 60 Swiss fuckin' francs Damn go walking next afternoon Oretha Castle ate catfish lunch Cafe Reconcile side macaroni cheese cornbread collard greens Saw advertised channel 99 public access channel walked across street gym watched two fighters spar talked break sipped Snapple thought, life fight? test grace would match throwing bombs like Mike Tyson some, like Pernell, slippery [?] fearless like Gatti like Henry Akinwande buckle stall going gets tough, much due respect break cry Like Oliver \"The Atomic Bomb\" McCall Life's chess game us Hit, hit, jab hook feint bob weave fighters got back ring thought fight life time leaving damn go airport fly Cleveland, Ohio dinner Sylvester's North Canton girlfriend friends first time surrounded genuine smiles (beautiful smiles) table them, felt content grounded rooted dropped face hardships single mom happens one closest dearest friends Fell asleep spare room sound crop dusters cars highway Back roots unconditional love Rules everything could longer hear birds Flims   \n",
              "53272                                                                                                                                                                                                                                                                                                                                                                                                                                                                                                                                                                                                                                                                                                                                                                                                                                                                                                                                                                                                                                                                                                                                                                                                                                                                                                                                                                                                                           Soon. Soon. Listen, I've drinking house lies ruin. know I'm Alone dark park pier, Watching ships disappear rain. world's bones. world black stones dressed rain place go home- like Nance. night like this, why, pro-stars, pro-sky. lit sick fighting Beneath diseased lighting discotheque night. mean thing. never means thing. mean thing. never means thing. got swing. I've seen all. I've seen all. Magnolia's girl. heart's made wood. apocalypses go, that's pretty good. Sha-la-la, say? Please remove spurs. Come think it, remove antlers. seen ages. still fly rages mention name, Christine White. think often, desert, Laughing head Forest Night. Say prayer light. live well. live mine. I'm still slinging mud towers time. took walk threw English Garden. born North, father's South. Love political beast jaws mouth. care! upset- every right be. Regretfully, decline. Every night waste time. Every night. Every night. Every night. side good. inside sea's guts, crumbling beauty trapped river ice. crumbling beauty trapped Paradise, Oh yes, Paradise! tide comes tide goes again. suppose kind thing see every day. tide comes in. tide goes away. Oh, tide comes in. Yeah, tide. Yes, tide. ransom note written night sky Reminds what-in-particular wine love. Like punctured beast, better-off dead, Compliments going head: La-da-da, la-da-da! speaking mind (the Sunflower), speaking world turning sour you, twenty years old 1992. bathed golden sunlight, alright? ripped dope. ray sunshine. hopeless romantic. swine. got spend money make money. got stop calling \"honey\". Oh world! fucking explosion turns us around! searchlight slumps over, sick night, kids boats, busted shipyard Going down, down, down, down, down, down, down. traveled light (all night, every night), arrive conclusion world's inutterable secret, shut mouth. I've seen all. I've seen all. I've seen all. Free easy. Gentle. Gentle. wind trees makes mental me. Nancy, state crisis, cloud. Soon. Soon.   \n",
              "13622                                                                                                                                                                                                                                                                                                                                                                                                                                                                                                                                                                                                                                                                                                                                                                                                                                                                                                                                                                                                                                                                                                                                                                                                                                                                                                                                                                                                                                                                                                                                                                                                                                                                                                                                                                                                                                                                                                                                                                                                                                                                                                                                                                                                                                                                                                                                                                                                                                                                                                                                                                                                                                                                                                                                          days innocence grace blow by. smiles wear upon face blow by. Oh, sweet wine youth goes sour time. Seems like lose, ache find... town called Amen. Like bright-eyed smile long lost friend. town called Amen. Sit window sill. Watch children rushing by. Come flood summer rain. Strange increments time. wild engines run, burning shadows minds. Lord, purging gets done, sure pray what's left behind... town called Amen. Like bright-eyed smile long lost friend. town called Amen. Come lay bed. Hey, close weary eyes. Like clouds heads, life slowly passes by. kiss dog love, little child? lay arms sweet reverie while? town called Amen. Like bright sun rise. Hey, open eyes, town called Amen. Amen.   \n",
              "\n",
              "       similarity  \n",
              "7354     0.986262  \n",
              "31781    0.982193  \n",
              "64402    0.982003  \n",
              "53272    0.981972  \n",
              "13622    0.981278  "
            ],
            "text/html": [
              "\n",
              "  <div id=\"df-9dec5a21-bb8b-4ebd-a7fd-dacf88129ae5\" class=\"colab-df-container\">\n",
              "    <div>\n",
              "<style scoped>\n",
              "    .dataframe tbody tr th:only-of-type {\n",
              "        vertical-align: middle;\n",
              "    }\n",
              "\n",
              "    .dataframe tbody tr th {\n",
              "        vertical-align: top;\n",
              "    }\n",
              "\n",
              "    .dataframe thead th {\n",
              "        text-align: right;\n",
              "    }\n",
              "</style>\n",
              "<table border=\"1\" class=\"dataframe\">\n",
              "  <thead>\n",
              "    <tr style=\"text-align: right;\">\n",
              "      <th></th>\n",
              "      <th>lyrics</th>\n",
              "      <th>similarity</th>\n",
              "    </tr>\n",
              "  </thead>\n",
              "  <tbody>\n",
              "    <tr>\n",
              "      <th>7354</th>\n",
              "      <td>wake half time, know five minutes think \"What country? city? hotel in?\" five minutes think \"Is wild animal scratching around next bed? large rat raccoon squirrel broke in?\" stumble around room, touching walls, feeling around Feeling around dark feel feel find light switch turn recognize cat there's beautiful woman laying bed you, head clear Wait I'm wrong, thought clear I'm alone There's guitar recording gear Okay, realize I'm hotel room San Francisco stayed girl tour San Francisco long That's really remember, hotel night long engineer's limping around messed knee mosh pit night He's blaming let Come watch McGregor fight apartment \"I already girlfriend over,\" told \"It's last night together Marc Hopkins sessions\" carpet gold, walls yellow, curtains pink carpet gold, walls yellow, curtains pink carpet gold, walls yellow, curtains pink carpet gold, walls yellow, curtains pink I'm back Ireland, I'm totally stoned jet lag permanently clock different day day duration life Lately go bed 7 o'clock morning, wake 4 PM dark New Orleans 5:30 walk across Coliseum Square I'll get iced tea Mojo Magazine sit bit come back window, see Pontchartrain Hotel sign lit like always is, neon green finished book John Connolly, got choked end Like end book, Book Lost Things end Stan Laurel hears Pacific Ocean waves crashing mind, takes past Oliver Hardy audience clapping I'm listening Nels Cline's Lovers I'm watching news mudslides snowstorms east coast bothers like everybody fingerpointing Saying somebody something wrong like news anymore pick remote click I'm falling asleep, I'm dream state I'm back San Francisco, walking around apartment earthquake I'm feeling? guitars falling place floors rising ceiling getting closer ceiling, heart beating faster faster run kitchen, grab food bottled water exit apartment fast look fruit bowl there's unbearably loud hum Coming cable car tracks oranges yellow, lemons green, cable car goes vroom-vroom oranges yellow, lemons green, cable car goes vroom-vroom oranges yellow, lemons green, cable car goes vroom-vroom oranges yellow, lemons green, cable car goes vroom-vroom dream, walked SPCA somebody asked \"Mark, pets?,\" said, \"Yes, do\" says, \"Well, kind pets?\" said, \"Well, take guess\" guesses guesses said \"Well wrong, unique pets\" says, \"How different?\" said, \"Well, let show video them\" said, \"Okay, let watch video them\" show video pets' eyes bulged frightened Like Mia Farrow's eyes Rosemary's Baby fucked Satan kitty cat barks, duck goes quack, puppy dog goes meow kitty cat barks, duck goes quack, puppy dog goes meow kitty cat barks, duck goes quack, puppy dog goes meow kitty cat barks, duck goes quack, puppy dog goes meow friend said, \"Mark, know leaving tonight child look after?\" said, \"Yeah, he's smart kid wants grow actor movie director Steve Railsback favorite actor world, watch movies together son's favorite movies Devil's Rejects, Ed Gein, Helter Skelter\" friend said, \"Well, who's babysitter?\" said, \"Don't worry it, that's business, he's neighbor\" said, \"Look, gotta go, called taxi, son's gonna fine Talk later, alligator\" got babysitter coming, live 666 Post, neighbor is... zoom got babysitter coming, live 666 Post, neighbor is... zoom got babysitter coming, live 666 Post, neighbor is... zoom got babysitter coming, live 666 Post, neighbor is... zoom</td>\n",
              "      <td>0.986262</td>\n",
              "    </tr>\n",
              "    <tr>\n",
              "      <th>31781</th>\n",
              "      <td>Shit got heavy like eyelids highway end got quiet like island left headed sea toothless shark actor playing part can't pretend care like unknown second home we're upside down, love Gravity change heart fell hell fell I've incisive intuition curse anything Always first know everything ends Bullets June nice night knife fight two boats drifting sun shines you, love well-lit like work art I've exiled like enemy Forever dark</td>\n",
              "      <td>0.982193</td>\n",
              "    </tr>\n",
              "    <tr>\n",
              "      <th>64402</th>\n",
              "      <td>Damn go walking find horses man-made lake trees Came back room covered sweat Swiss Waldhaus Hotel Filled application work visa Japan Australia weeks since I've left home feel place element work 7 night 5 AD says \"Wrap\" runner named Fabio flashlights back hotel sun comes get bed talk girl phone birds chirping hell end playing Italian film Set ski town Switzerland? Damn go walk yard, alone [?] felt like Jimmy Page walking mountains behind Aleister Crowley's house dark, got cold turned back around Came back room, read Graham Nash's Wild Tales Til fell asleep sound sound birds birds Flims Yeah I've asked around nobody knows names 'em birds birds Flims Yeah I've asked around nobody knows names 'em Damn go walking road girl named Veronica stopped said Milan recognized film today birthday talked little bit barrier went one way went walked along dandelions market bought flowers way back hotel left lobby hers, note \"Veronica, happy birthday - Mark\" saw set said \"Grazie\", could tell gesture touched heart Damn go dinner last night Paul throat sore could see feeling ill spends time set cold last two days, playing Hitler could see grappling felt bad, gave words support talked John Hughes movies, home ownership cost living San Francisco New York damn go later set dresser something like Name said \"Brianna\" talked four hours bar street music terrible yeah, liked her, kinda someone four five years kinda figured anyhow, told \"Well, I\" made life easier us walked drunk ass back room like gentleman, try went room looked waterfront balcony felt surrealness surroundings got bed Looked baby blue ceilings thought home girl ached love Damn ended fly New Orleans saw kitty cats sleeping porches drank real iced tea first time six eight weeks nice walk awkward path yell [?] eating pasta pomodoro 38th time month price [?] 60 Swiss fuckin' francs Damn go walking next afternoon Oretha Castle ate catfish lunch Cafe Reconcile side macaroni cheese cornbread collard greens Saw advertised channel 99 public access channel walked across street gym watched two fighters spar talked break sipped Snapple thought, life fight? test grace would match throwing bombs like Mike Tyson some, like Pernell, slippery [?] fearless like Gatti like Henry Akinwande buckle stall going gets tough, much due respect break cry Like Oliver \"The Atomic Bomb\" McCall Life's chess game us Hit, hit, jab hook feint bob weave fighters got back ring thought fight life time leaving damn go airport fly Cleveland, Ohio dinner Sylvester's North Canton girlfriend friends first time surrounded genuine smiles (beautiful smiles) table them, felt content grounded rooted dropped face hardships single mom happens one closest dearest friends Fell asleep spare room sound crop dusters cars highway Back roots unconditional love Rules everything could longer hear birds Flims</td>\n",
              "      <td>0.982003</td>\n",
              "    </tr>\n",
              "    <tr>\n",
              "      <th>53272</th>\n",
              "      <td>Soon. Soon. Listen, I've drinking house lies ruin. know I'm Alone dark park pier, Watching ships disappear rain. world's bones. world black stones dressed rain place go home- like Nance. night like this, why, pro-stars, pro-sky. lit sick fighting Beneath diseased lighting discotheque night. mean thing. never means thing. mean thing. never means thing. got swing. I've seen all. I've seen all. Magnolia's girl. heart's made wood. apocalypses go, that's pretty good. Sha-la-la, say? Please remove spurs. Come think it, remove antlers. seen ages. still fly rages mention name, Christine White. think often, desert, Laughing head Forest Night. Say prayer light. live well. live mine. I'm still slinging mud towers time. took walk threw English Garden. born North, father's South. Love political beast jaws mouth. care! upset- every right be. Regretfully, decline. Every night waste time. Every night. Every night. Every night. side good. inside sea's guts, crumbling beauty trapped river ice. crumbling beauty trapped Paradise, Oh yes, Paradise! tide comes tide goes again. suppose kind thing see every day. tide comes in. tide goes away. Oh, tide comes in. Yeah, tide. Yes, tide. ransom note written night sky Reminds what-in-particular wine love. Like punctured beast, better-off dead, Compliments going head: La-da-da, la-da-da! speaking mind (the Sunflower), speaking world turning sour you, twenty years old 1992. bathed golden sunlight, alright? ripped dope. ray sunshine. hopeless romantic. swine. got spend money make money. got stop calling \"honey\". Oh world! fucking explosion turns us around! searchlight slumps over, sick night, kids boats, busted shipyard Going down, down, down, down, down, down, down. traveled light (all night, every night), arrive conclusion world's inutterable secret, shut mouth. I've seen all. I've seen all. I've seen all. Free easy. Gentle. Gentle. wind trees makes mental me. Nancy, state crisis, cloud. Soon. Soon.</td>\n",
              "      <td>0.981972</td>\n",
              "    </tr>\n",
              "    <tr>\n",
              "      <th>13622</th>\n",
              "      <td>days innocence grace blow by. smiles wear upon face blow by. Oh, sweet wine youth goes sour time. Seems like lose, ache find... town called Amen. Like bright-eyed smile long lost friend. town called Amen. Sit window sill. Watch children rushing by. Come flood summer rain. Strange increments time. wild engines run, burning shadows minds. Lord, purging gets done, sure pray what's left behind... town called Amen. Like bright-eyed smile long lost friend. town called Amen. Come lay bed. Hey, close weary eyes. Like clouds heads, life slowly passes by. kiss dog love, little child? lay arms sweet reverie while? town called Amen. Like bright sun rise. Hey, open eyes, town called Amen. Amen.</td>\n",
              "      <td>0.981278</td>\n",
              "    </tr>\n",
              "  </tbody>\n",
              "</table>\n",
              "</div>\n",
              "    <div class=\"colab-df-buttons\">\n",
              "\n",
              "  <div class=\"colab-df-container\">\n",
              "    <button class=\"colab-df-convert\" onclick=\"convertToInteractive('df-9dec5a21-bb8b-4ebd-a7fd-dacf88129ae5')\"\n",
              "            title=\"Convert this dataframe to an interactive table.\"\n",
              "            style=\"display:none;\">\n",
              "\n",
              "  <svg xmlns=\"http://www.w3.org/2000/svg\" height=\"24px\" viewBox=\"0 -960 960 960\">\n",
              "    <path d=\"M120-120v-720h720v720H120Zm60-500h600v-160H180v160Zm220 220h160v-160H400v160Zm0 220h160v-160H400v160ZM180-400h160v-160H180v160Zm440 0h160v-160H620v160ZM180-180h160v-160H180v160Zm440 0h160v-160H620v160Z\"/>\n",
              "  </svg>\n",
              "    </button>\n",
              "\n",
              "  <style>\n",
              "    .colab-df-container {\n",
              "      display:flex;\n",
              "      gap: 12px;\n",
              "    }\n",
              "\n",
              "    .colab-df-convert {\n",
              "      background-color: #E8F0FE;\n",
              "      border: none;\n",
              "      border-radius: 50%;\n",
              "      cursor: pointer;\n",
              "      display: none;\n",
              "      fill: #1967D2;\n",
              "      height: 32px;\n",
              "      padding: 0 0 0 0;\n",
              "      width: 32px;\n",
              "    }\n",
              "\n",
              "    .colab-df-convert:hover {\n",
              "      background-color: #E2EBFA;\n",
              "      box-shadow: 0px 1px 2px rgba(60, 64, 67, 0.3), 0px 1px 3px 1px rgba(60, 64, 67, 0.15);\n",
              "      fill: #174EA6;\n",
              "    }\n",
              "\n",
              "    .colab-df-buttons div {\n",
              "      margin-bottom: 4px;\n",
              "    }\n",
              "\n",
              "    [theme=dark] .colab-df-convert {\n",
              "      background-color: #3B4455;\n",
              "      fill: #D2E3FC;\n",
              "    }\n",
              "\n",
              "    [theme=dark] .colab-df-convert:hover {\n",
              "      background-color: #434B5C;\n",
              "      box-shadow: 0px 1px 3px 1px rgba(0, 0, 0, 0.15);\n",
              "      filter: drop-shadow(0px 1px 2px rgba(0, 0, 0, 0.3));\n",
              "      fill: #FFFFFF;\n",
              "    }\n",
              "  </style>\n",
              "\n",
              "    <script>\n",
              "      const buttonEl =\n",
              "        document.querySelector('#df-9dec5a21-bb8b-4ebd-a7fd-dacf88129ae5 button.colab-df-convert');\n",
              "      buttonEl.style.display =\n",
              "        google.colab.kernel.accessAllowed ? 'block' : 'none';\n",
              "\n",
              "      async function convertToInteractive(key) {\n",
              "        const element = document.querySelector('#df-9dec5a21-bb8b-4ebd-a7fd-dacf88129ae5');\n",
              "        const dataTable =\n",
              "          await google.colab.kernel.invokeFunction('convertToInteractive',\n",
              "                                                    [key], {});\n",
              "        if (!dataTable) return;\n",
              "\n",
              "        const docLinkHtml = 'Like what you see? Visit the ' +\n",
              "          '<a target=\"_blank\" href=https://colab.research.google.com/notebooks/data_table.ipynb>data table notebook</a>'\n",
              "          + ' to learn more about interactive tables.';\n",
              "        element.innerHTML = '';\n",
              "        dataTable['output_type'] = 'display_data';\n",
              "        await google.colab.output.renderOutput(dataTable, element);\n",
              "        const docLink = document.createElement('div');\n",
              "        docLink.innerHTML = docLinkHtml;\n",
              "        element.appendChild(docLink);\n",
              "      }\n",
              "    </script>\n",
              "  </div>\n",
              "\n",
              "\n",
              "<div id=\"df-3c66687c-2511-4ccd-9edf-a9882f319aaf\">\n",
              "  <button class=\"colab-df-quickchart\" onclick=\"quickchart('df-3c66687c-2511-4ccd-9edf-a9882f319aaf')\"\n",
              "            title=\"Suggest charts\"\n",
              "            style=\"display:none;\">\n",
              "\n",
              "<svg xmlns=\"http://www.w3.org/2000/svg\" height=\"24px\"viewBox=\"0 0 24 24\"\n",
              "     width=\"24px\">\n",
              "    <g>\n",
              "        <path d=\"M19 3H5c-1.1 0-2 .9-2 2v14c0 1.1.9 2 2 2h14c1.1 0 2-.9 2-2V5c0-1.1-.9-2-2-2zM9 17H7v-7h2v7zm4 0h-2V7h2v10zm4 0h-2v-4h2v4z\"/>\n",
              "    </g>\n",
              "</svg>\n",
              "  </button>\n",
              "\n",
              "<style>\n",
              "  .colab-df-quickchart {\n",
              "      --bg-color: #E8F0FE;\n",
              "      --fill-color: #1967D2;\n",
              "      --hover-bg-color: #E2EBFA;\n",
              "      --hover-fill-color: #174EA6;\n",
              "      --disabled-fill-color: #AAA;\n",
              "      --disabled-bg-color: #DDD;\n",
              "  }\n",
              "\n",
              "  [theme=dark] .colab-df-quickchart {\n",
              "      --bg-color: #3B4455;\n",
              "      --fill-color: #D2E3FC;\n",
              "      --hover-bg-color: #434B5C;\n",
              "      --hover-fill-color: #FFFFFF;\n",
              "      --disabled-bg-color: #3B4455;\n",
              "      --disabled-fill-color: #666;\n",
              "  }\n",
              "\n",
              "  .colab-df-quickchart {\n",
              "    background-color: var(--bg-color);\n",
              "    border: none;\n",
              "    border-radius: 50%;\n",
              "    cursor: pointer;\n",
              "    display: none;\n",
              "    fill: var(--fill-color);\n",
              "    height: 32px;\n",
              "    padding: 0;\n",
              "    width: 32px;\n",
              "  }\n",
              "\n",
              "  .colab-df-quickchart:hover {\n",
              "    background-color: var(--hover-bg-color);\n",
              "    box-shadow: 0 1px 2px rgba(60, 64, 67, 0.3), 0 1px 3px 1px rgba(60, 64, 67, 0.15);\n",
              "    fill: var(--button-hover-fill-color);\n",
              "  }\n",
              "\n",
              "  .colab-df-quickchart-complete:disabled,\n",
              "  .colab-df-quickchart-complete:disabled:hover {\n",
              "    background-color: var(--disabled-bg-color);\n",
              "    fill: var(--disabled-fill-color);\n",
              "    box-shadow: none;\n",
              "  }\n",
              "\n",
              "  .colab-df-spinner {\n",
              "    border: 2px solid var(--fill-color);\n",
              "    border-color: transparent;\n",
              "    border-bottom-color: var(--fill-color);\n",
              "    animation:\n",
              "      spin 1s steps(1) infinite;\n",
              "  }\n",
              "\n",
              "  @keyframes spin {\n",
              "    0% {\n",
              "      border-color: transparent;\n",
              "      border-bottom-color: var(--fill-color);\n",
              "      border-left-color: var(--fill-color);\n",
              "    }\n",
              "    20% {\n",
              "      border-color: transparent;\n",
              "      border-left-color: var(--fill-color);\n",
              "      border-top-color: var(--fill-color);\n",
              "    }\n",
              "    30% {\n",
              "      border-color: transparent;\n",
              "      border-left-color: var(--fill-color);\n",
              "      border-top-color: var(--fill-color);\n",
              "      border-right-color: var(--fill-color);\n",
              "    }\n",
              "    40% {\n",
              "      border-color: transparent;\n",
              "      border-right-color: var(--fill-color);\n",
              "      border-top-color: var(--fill-color);\n",
              "    }\n",
              "    60% {\n",
              "      border-color: transparent;\n",
              "      border-right-color: var(--fill-color);\n",
              "    }\n",
              "    80% {\n",
              "      border-color: transparent;\n",
              "      border-right-color: var(--fill-color);\n",
              "      border-bottom-color: var(--fill-color);\n",
              "    }\n",
              "    90% {\n",
              "      border-color: transparent;\n",
              "      border-bottom-color: var(--fill-color);\n",
              "    }\n",
              "  }\n",
              "</style>\n",
              "\n",
              "  <script>\n",
              "    async function quickchart(key) {\n",
              "      const quickchartButtonEl =\n",
              "        document.querySelector('#' + key + ' button');\n",
              "      quickchartButtonEl.disabled = true;  // To prevent multiple clicks.\n",
              "      quickchartButtonEl.classList.add('colab-df-spinner');\n",
              "      try {\n",
              "        const charts = await google.colab.kernel.invokeFunction(\n",
              "            'suggestCharts', [key], {});\n",
              "      } catch (error) {\n",
              "        console.error('Error during call to suggestCharts:', error);\n",
              "      }\n",
              "      quickchartButtonEl.classList.remove('colab-df-spinner');\n",
              "      quickchartButtonEl.classList.add('colab-df-quickchart-complete');\n",
              "    }\n",
              "    (() => {\n",
              "      let quickchartButtonEl =\n",
              "        document.querySelector('#df-3c66687c-2511-4ccd-9edf-a9882f319aaf button');\n",
              "      quickchartButtonEl.style.display =\n",
              "        google.colab.kernel.accessAllowed ? 'block' : 'none';\n",
              "    })();\n",
              "  </script>\n",
              "</div>\n",
              "\n",
              "  <div id=\"id_3fd9fc17-3f43-4cac-9466-2230646130a1\">\n",
              "    <style>\n",
              "      .colab-df-generate {\n",
              "        background-color: #E8F0FE;\n",
              "        border: none;\n",
              "        border-radius: 50%;\n",
              "        cursor: pointer;\n",
              "        display: none;\n",
              "        fill: #1967D2;\n",
              "        height: 32px;\n",
              "        padding: 0 0 0 0;\n",
              "        width: 32px;\n",
              "      }\n",
              "\n",
              "      .colab-df-generate:hover {\n",
              "        background-color: #E2EBFA;\n",
              "        box-shadow: 0px 1px 2px rgba(60, 64, 67, 0.3), 0px 1px 3px 1px rgba(60, 64, 67, 0.15);\n",
              "        fill: #174EA6;\n",
              "      }\n",
              "\n",
              "      [theme=dark] .colab-df-generate {\n",
              "        background-color: #3B4455;\n",
              "        fill: #D2E3FC;\n",
              "      }\n",
              "\n",
              "      [theme=dark] .colab-df-generate:hover {\n",
              "        background-color: #434B5C;\n",
              "        box-shadow: 0px 1px 3px 1px rgba(0, 0, 0, 0.15);\n",
              "        filter: drop-shadow(0px 1px 2px rgba(0, 0, 0, 0.3));\n",
              "        fill: #FFFFFF;\n",
              "      }\n",
              "    </style>\n",
              "    <button class=\"colab-df-generate\" onclick=\"generateWithVariable('recommended_songs_output')\"\n",
              "            title=\"Generate code using this dataframe.\"\n",
              "            style=\"display:none;\">\n",
              "\n",
              "  <svg xmlns=\"http://www.w3.org/2000/svg\" height=\"24px\"viewBox=\"0 0 24 24\"\n",
              "       width=\"24px\">\n",
              "    <path d=\"M7,19H8.4L18.45,9,17,7.55,7,17.6ZM5,21V16.75L18.45,3.32a2,2,0,0,1,2.83,0l1.4,1.43a1.91,1.91,0,0,1,.58,1.4,1.91,1.91,0,0,1-.58,1.4L9.25,21ZM18.45,9,17,7.55Zm-12,3A5.31,5.31,0,0,0,4.9,8.1,5.31,5.31,0,0,0,1,6.5,5.31,5.31,0,0,0,4.9,4.9,5.31,5.31,0,0,0,6.5,1,5.31,5.31,0,0,0,8.1,4.9,5.31,5.31,0,0,0,12,6.5,5.46,5.46,0,0,0,6.5,12Z\"/>\n",
              "  </svg>\n",
              "    </button>\n",
              "    <script>\n",
              "      (() => {\n",
              "      const buttonEl =\n",
              "        document.querySelector('#id_3fd9fc17-3f43-4cac-9466-2230646130a1 button.colab-df-generate');\n",
              "      buttonEl.style.display =\n",
              "        google.colab.kernel.accessAllowed ? 'block' : 'none';\n",
              "\n",
              "      buttonEl.onclick = () => {\n",
              "        google.colab.notebook.generateWithVariable('recommended_songs_output');\n",
              "      }\n",
              "      })();\n",
              "    </script>\n",
              "  </div>\n",
              "\n",
              "    </div>\n",
              "  </div>\n"
            ],
            "application/vnd.google.colaboratory.intrinsic+json": {
              "type": "dataframe",
              "variable_name": "recommended_songs_output",
              "summary": "{\n  \"name\": \"recommended_songs_output\",\n  \"rows\": 5,\n  \"fields\": [\n    {\n      \"column\": \"lyrics\",\n      \"properties\": {\n        \"dtype\": \"string\",\n        \"num_unique_values\": 5,\n        \"samples\": [\n          \"Shit got heavy like eyelids highway end got quiet like island left headed sea toothless shark actor playing part can't pretend care like unknown second home we're upside down, love Gravity change heart fell hell fell I've incisive intuition curse anything Always first know everything ends Bullets June nice night knife fight two boats drifting sun shines you, love well-lit like work art I've exiled like enemy Forever dark\",\n          \"days innocence grace blow by. smiles wear upon face blow by. Oh, sweet wine youth goes sour time. Seems like lose, ache find... town called Amen. Like bright-eyed smile long lost friend. town called Amen. Sit window sill. Watch children rushing by. Come flood summer rain. Strange increments time. wild engines run, burning shadows minds. Lord, purging gets done, sure pray what's left behind... town called Amen. Like bright-eyed smile long lost friend. town called Amen. Come lay bed. Hey, close weary eyes. Like clouds heads, life slowly passes by. kiss dog love, little child? lay arms sweet reverie while? town called Amen. Like bright sun rise. Hey, open eyes, town called Amen. Amen.\",\n          \"Damn go walking find horses man-made lake trees Came back room covered sweat Swiss Waldhaus Hotel Filled application work visa Japan Australia weeks since I've left home feel place element work 7 night 5 AD says \\\"Wrap\\\" runner named Fabio flashlights back hotel sun comes get bed talk girl phone birds chirping hell end playing Italian film Set ski town Switzerland? Damn go walk yard, alone [?] felt like Jimmy Page walking mountains behind Aleister Crowley's house dark, got cold turned back around Came back room, read Graham Nash's Wild Tales Til fell asleep sound sound birds birds Flims Yeah I've asked around nobody knows names 'em birds birds Flims Yeah I've asked around nobody knows names 'em Damn go walking road girl named Veronica stopped said Milan recognized film today birthday talked little bit barrier went one way went walked along dandelions market bought flowers way back hotel left lobby hers, note \\\"Veronica, happy birthday - Mark\\\" saw set said \\\"Grazie\\\", could tell gesture touched heart Damn go dinner last night Paul throat sore could see feeling ill spends time set cold last two days, playing Hitler could see grappling felt bad, gave words support talked John Hughes movies, home ownership cost living San Francisco New York damn go later set dresser something like Name said \\\"Brianna\\\" talked four hours bar street music terrible yeah, liked her, kinda someone four five years kinda figured anyhow, told \\\"Well, I\\\" made life easier us walked drunk ass back room like gentleman, try went room looked waterfront balcony felt surrealness surroundings got bed Looked baby blue ceilings thought home girl ached love Damn ended fly New Orleans saw kitty cats sleeping porches drank real iced tea first time six eight weeks nice walk awkward path yell [?] eating pasta pomodoro 38th time month price [?] 60 Swiss fuckin' francs Damn go walking next afternoon Oretha Castle ate catfish lunch Cafe Reconcile side macaroni cheese cornbread collard greens Saw advertised channel 99 public access channel walked across street gym watched two fighters spar talked break sipped Snapple thought, life fight? test grace would match throwing bombs like Mike Tyson some, like Pernell, slippery [?] fearless like Gatti like Henry Akinwande buckle stall going gets tough, much due respect break cry Like Oliver \\\"The Atomic Bomb\\\" McCall Life's chess game us Hit, hit, jab hook feint bob weave fighters got back ring thought fight life time leaving damn go airport fly Cleveland, Ohio dinner Sylvester's North Canton girlfriend friends first time surrounded genuine smiles (beautiful smiles) table them, felt content grounded rooted dropped face hardships single mom happens one closest dearest friends Fell asleep spare room sound crop dusters cars highway Back roots unconditional love Rules everything could longer hear birds Flims\"\n        ],\n        \"semantic_type\": \"\",\n        \"description\": \"\"\n      }\n    },\n    {\n      \"column\": \"similarity\",\n      \"properties\": {\n        \"dtype\": \"number\",\n        \"std\": 0.001998613105652452,\n        \"min\": 0.9812778009446909,\n        \"max\": 0.986262496568753,\n        \"num_unique_values\": 5,\n        \"samples\": [\n          0.9821926513339595,\n          0.9812778009446909,\n          0.9820030730696544\n        ],\n        \"semantic_type\": \"\",\n        \"description\": \"\"\n      }\n    }\n  ]\n}"
            }
          },
          "metadata": {}
        }
      ]
    }
  ]
}